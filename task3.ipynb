{
 "cells": [
  {
   "cell_type": "code",
   "execution_count": 1,
   "id": "e496e842",
   "metadata": {},
   "outputs": [],
   "source": [
    "import cobra"
   ]
  },
  {
   "cell_type": "code",
   "execution_count": 2,
   "id": "3be88a31",
   "metadata": {},
   "outputs": [],
   "source": [
    "from cobra import Model,Reaction,Metabolite"
   ]
  },
  {
   "cell_type": "code",
   "execution_count": 3,
   "id": "dc6e0436",
   "metadata": {},
   "outputs": [],
   "source": [
    "model=Model('model')"
   ]
  },
  {
   "cell_type": "code",
   "execution_count": 4,
   "id": "e2e90ad5",
   "metadata": {},
   "outputs": [
    {
     "data": {
      "text/html": [
       "<strong><em>Optimal</em> solution with objective value 0.110</strong><br><div>\n",
       "<style scoped>\n",
       "    .dataframe tbody tr th:only-of-type {\n",
       "        vertical-align: middle;\n",
       "    }\n",
       "\n",
       "    .dataframe tbody tr th {\n",
       "        vertical-align: top;\n",
       "    }\n",
       "\n",
       "    .dataframe thead th {\n",
       "        text-align: right;\n",
       "    }\n",
       "</style>\n",
       "<table border=\"1\" class=\"dataframe\">\n",
       "  <thead>\n",
       "    <tr style=\"text-align: right;\">\n",
       "      <th></th>\n",
       "      <th>fluxes</th>\n",
       "      <th>reduced_costs</th>\n",
       "    </tr>\n",
       "  </thead>\n",
       "  <tbody>\n",
       "    <tr>\n",
       "      <th>v0</th>\n",
       "      <td>1.000000</td>\n",
       "      <td>0.220022</td>\n",
       "    </tr>\n",
       "    <tr>\n",
       "      <th>v1</th>\n",
       "      <td>1.000000</td>\n",
       "      <td>0.000000</td>\n",
       "    </tr>\n",
       "    <tr>\n",
       "      <th>v2</th>\n",
       "      <td>0.110011</td>\n",
       "      <td>0.000000</td>\n",
       "    </tr>\n",
       "    <tr>\n",
       "      <th>Mu</th>\n",
       "      <td>0.110011</td>\n",
       "      <td>0.000000</td>\n",
       "    </tr>\n",
       "  </tbody>\n",
       "</table>\n",
       "</div>"
      ],
      "text/plain": [
       "<Solution 0.110 at 0x1c86e9eca90>"
      ]
     },
     "execution_count": 4,
     "metadata": {},
     "output_type": "execute_result"
    }
   ],
   "source": [
    "v0=Reaction('v0')\n",
    "v0.name='v0'\n",
    "v0.lower_bound=1\n",
    "v0.upper_bound=1 \n",
    "\n",
    "v1=Reaction('v1')\n",
    "v1.name='v1'\n",
    "v1.lower_bound=0\n",
    "v1.upper_bound=1000\n",
    "\n",
    "v2=Reaction('v2')\n",
    "v2.name='v2'\n",
    "v2.lower_bound=0\n",
    "v2.upper_bound=1000\n",
    "\n",
    "\n",
    "Mu=Reaction('Mu')\n",
    "Mu.name='Mu'\n",
    "Mu.lower_bound=0\n",
    "Mu.upper_bound=1000\n",
    "\n",
    "glc=Metabolite('glu',compartment='c')\n",
    "AA=Metabolite('AA',compartment='c')\n",
    "biomass=Metabolite('biomass',compartment='c')\n",
    "v0.add_metabolites({glc:1})\n",
    "v1.add_metabolites({glc:-1,AA:1})\n",
    "v2.add_metabolites({AA:-9.09,biomass:1})\n",
    "Mu.add_metabolites({biomass:-1})\n",
    "model.add_reactions([v0,v1,v2,Mu])\n",
    "model.objective='Mu'\n",
    "model.optimize()"
   ]
  },
  {
   "cell_type": "code",
   "execution_count": 5,
   "id": "6fe7bfdf",
   "metadata": {},
   "outputs": [
    {
     "data": {
      "text/html": [
       "<h3>Objective</h3><p>1.0 Mu = 0.11001100110011001</p><h4>Uptake</h4><table border=\"1\" class=\"dataframe\">\n",
       "  <thead>\n",
       "    <tr style=\"text-align: right;\">\n",
       "      <th>Metabolite</th>\n",
       "      <th>Reaction</th>\n",
       "      <th>Flux</th>\n",
       "      <th>C-Number</th>\n",
       "      <th>C-Flux</th>\n",
       "    </tr>\n",
       "  </thead>\n",
       "  <tbody>\n",
       "    <tr>\n",
       "      <td>glu</td>\n",
       "      <td>v0</td>\n",
       "      <td>1</td>\n",
       "      <td>0</td>\n",
       "      <td>0.00%</td>\n",
       "    </tr>\n",
       "  </tbody>\n",
       "</table><h4>Secretion</h4><table border=\"1\" class=\"dataframe\">\n",
       "  <thead>\n",
       "    <tr style=\"text-align: right;\">\n",
       "      <th>Metabolite</th>\n",
       "      <th>Reaction</th>\n",
       "      <th>Flux</th>\n",
       "      <th>C-Number</th>\n",
       "      <th>C-Flux</th>\n",
       "    </tr>\n",
       "  </thead>\n",
       "  <tbody>\n",
       "    <tr>\n",
       "      <td>biomass</td>\n",
       "      <td>Mu</td>\n",
       "      <td>-0.11</td>\n",
       "      <td>0</td>\n",
       "      <td>0.00%</td>\n",
       "    </tr>\n",
       "  </tbody>\n",
       "</table>"
      ],
      "text/plain": [
       "<cobra.summary.model_summary.ModelSummary at 0x1c86e9dc850>"
      ]
     },
     "execution_count": 5,
     "metadata": {},
     "output_type": "execute_result"
    }
   ],
   "source": [
    "model.summary()"
   ]
  },
  {
   "cell_type": "code",
   "execution_count": 9,
   "id": "9c8ab948",
   "metadata": {},
   "outputs": [],
   "source": [
    "cobra.io.save_json_model(model,\"task3.json\")"
   ]
  },
  {
   "cell_type": "code",
   "execution_count": 10,
   "id": "0212e555",
   "metadata": {},
   "outputs": [
    {
     "data": {
      "text/html": [
       "\n",
       "        <table>\n",
       "            <tr>\n",
       "                <td><strong>Name</strong></td>\n",
       "                <td>first_model</td>\n",
       "            </tr><tr>\n",
       "                <td><strong>Memory address</strong></td>\n",
       "                <td>0x01c86e9dc1f0</td>\n",
       "            </tr><tr>\n",
       "                <td><strong>Number of metabolites</strong></td>\n",
       "                <td>3</td>\n",
       "            </tr><tr>\n",
       "                <td><strong>Number of reactions</strong></td>\n",
       "                <td>4</td>\n",
       "            </tr><tr>\n",
       "                <td><strong>Number of groups</strong></td>\n",
       "                <td>0</td>\n",
       "            </tr><tr>\n",
       "                <td><strong>Objective expression</strong></td>\n",
       "                <td>1.0*Mu - 1.0*Mu_reverse_893b7</td>\n",
       "            </tr><tr>\n",
       "                <td><strong>Compartments</strong></td>\n",
       "                <td>c</td>\n",
       "            </tr>\n",
       "          </table>"
      ],
      "text/plain": [
       "<Model first_model at 0x1c86e9dc1f0>"
      ]
     },
     "execution_count": 10,
     "metadata": {},
     "output_type": "execute_result"
    }
   ],
   "source": [
    "cobra.io.load_json_model(\"task3.json\")"
   ]
  },
  {
   "cell_type": "code",
   "execution_count": 11,
   "id": "ca2f4026",
   "metadata": {},
   "outputs": [],
   "source": [
    "from escher import Builder"
   ]
  },
  {
   "cell_type": "code",
   "execution_count": 12,
   "id": "179e5221",
   "metadata": {},
   "outputs": [],
   "source": [
    "builder=Builder(model_json=\"task3.json\")"
   ]
  },
  {
   "cell_type": "code",
   "execution_count": 13,
   "id": "330b57f3",
   "metadata": {},
   "outputs": [
    {
     "data": {
      "application/vnd.jupyter.widget-view+json": {
       "model_id": "59e7c60f2427494390e0d26768edfb24",
       "version_major": 2,
       "version_minor": 0
      },
      "text/plain": [
       "Builder()"
      ]
     },
     "metadata": {},
     "output_type": "display_data"
    }
   ],
   "source": [
    "builder"
   ]
  },
  {
   "cell_type": "code",
   "execution_count": null,
   "id": "a2743c0e",
   "metadata": {},
   "outputs": [],
   "source": []
  }
 ],
 "metadata": {
  "kernelspec": {
   "display_name": "Python 3 (ipykernel)",
   "language": "python",
   "name": "python3"
  },
  "language_info": {
   "codemirror_mode": {
    "name": "ipython",
    "version": 3
   },
   "file_extension": ".py",
   "mimetype": "text/x-python",
   "name": "python",
   "nbconvert_exporter": "python",
   "pygments_lexer": "ipython3",
   "version": "3.9.7"
  }
 },
 "nbformat": 4,
 "nbformat_minor": 5
}
