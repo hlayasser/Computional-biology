{
 "cells": [
  {
   "cell_type": "code",
   "execution_count": 2,
   "id": "552f1f0b",
   "metadata": {},
   "outputs": [],
   "source": [
    "import cobra\n",
    "from cobra import Model,Reaction,Metabolite\n",
    "Model1=Model('Model1')"
   ]
  },
  {
   "cell_type": "code",
   "execution_count": 9,
   "id": "6506bf93",
   "metadata": {},
   "outputs": [],
   "source": [
    "Reaction1=Reaction('Reaction1')\n",
    "Reaction1.name='Reaction1'\n",
    "Reaction1.lower_bound=0\n",
    "Reaction1.upper_bound=1000"
   ]
  },
  {
   "cell_type": "code",
   "execution_count": 10,
   "id": "c2ee4e28",
   "metadata": {},
   "outputs": [],
   "source": [
    "Reaction2=Reaction('Reaction2')\n",
    "Reaction2.name='Reaction2'\n",
    "Reaction2.lower_bound=0\n",
    "Reaction2.upper_bound=1000"
   ]
  },
  {
   "cell_type": "code",
   "execution_count": 11,
   "id": "fc1ad31a",
   "metadata": {},
   "outputs": [],
   "source": [
    "Reaction3=Reaction('Reaction3')\n",
    "Reaction3.name='Reaction3'\n",
    "Reaction3.lower_bound=.9 \n",
    "Reaction3.upper_bound=.9"
   ]
  },
  {
   "cell_type": "code",
   "execution_count": 12,
   "id": "cb1469ac",
   "metadata": {},
   "outputs": [],
   "source": [
    "Reaction4=Reaction('Reaction4')\n",
    "Reaction4.name='Reaction4'\n",
    "Reaction4.lower_bound=0\n",
    "Reaction4.upper_bound=1000"
   ]
  },
  {
   "cell_type": "code",
   "execution_count": 13,
   "id": "16c279cf",
   "metadata": {},
   "outputs": [],
   "source": [
    "Reaction0=Reaction('Reaction0')\n",
    "Reaction0.name='Reaction0'\n",
    "Reaction0.lower_bound=1\n",
    "Reaction0.upper_bound=1"
   ]
  },
  {
   "cell_type": "code",
   "execution_count": 14,
   "id": "a13db7fc",
   "metadata": {},
   "outputs": [],
   "source": [
    "M=Reaction('M')\n",
    "M.name='M'\n",
    "M.lower_bound=0\n",
    "M.upper_bound=1000"
   ]
  },
  {
   "cell_type": "code",
   "execution_count": 15,
   "id": "107b7360",
   "metadata": {},
   "outputs": [],
   "source": [
    "A_Metabolite=Metabolite('A',compartment='c') \n",
    "B_Metabolite=Metabolite('B',compartment='c') \n",
    "C_Metabolite=Metabolite('C',compartment='c')\n",
    "ATP_Metabolite=Metabolite('ATP',compartment='c')"
   ]
  },
  {
   "cell_type": "code",
   "execution_count": 16,
   "id": "57e87e17",
   "metadata": {},
   "outputs": [],
   "source": [
    "Reaction1.add_metabolites({A_Metabolite:-1,B_Metabolite:1})\n",
    "Reaction2.add_metabolites({B_Metabolite:-1,C_Metabolite:1})\n",
    "Reaction0.add_metabolites({A_Metabolite:1})\n",
    "M.add_metabolites({C_Metabolite:-1})\n",
    "Reaction3.add_metabolites({A_Metabolite:-1,ATP_Metabolite:1})\n",
    "Reaction4.add_metabolites({ATP_Metabolite:-1})"
   ]
  },
  {
   "cell_type": "code",
   "execution_count": 17,
   "id": "2a859834",
   "metadata": {},
   "outputs": [],
   "source": [
    "Model1.add_reactions([Reaction0,Reaction1,Reaction2,Reaction3,Reaction4,M])"
   ]
  },
  {
   "cell_type": "code",
   "execution_count": 18,
   "id": "a8004aec",
   "metadata": {},
   "outputs": [
    {
     "data": {
      "text/html": [
       "<h3>Objective</h3><p>1.0 M = 0.09999999999999998</p><h4>Uptake</h4><table border=\"1\" class=\"dataframe\">\n",
       "  <thead>\n",
       "    <tr style=\"text-align: right;\">\n",
       "      <th>Metabolite</th>\n",
       "      <th>Reaction</th>\n",
       "      <th>Flux</th>\n",
       "      <th>C-Number</th>\n",
       "      <th>C-Flux</th>\n",
       "    </tr>\n",
       "  </thead>\n",
       "  <tbody>\n",
       "    <tr>\n",
       "      <td>A</td>\n",
       "      <td>Reaction0</td>\n",
       "      <td>1</td>\n",
       "      <td>0</td>\n",
       "      <td>0.00%</td>\n",
       "    </tr>\n",
       "  </tbody>\n",
       "</table><h4>Secretion</h4><table border=\"1\" class=\"dataframe\">\n",
       "  <thead>\n",
       "    <tr style=\"text-align: right;\">\n",
       "      <th>Metabolite</th>\n",
       "      <th>Reaction</th>\n",
       "      <th>Flux</th>\n",
       "      <th>C-Number</th>\n",
       "      <th>C-Flux</th>\n",
       "    </tr>\n",
       "  </thead>\n",
       "  <tbody>\n",
       "    <tr>\n",
       "      <td>C</td>\n",
       "      <td>M</td>\n",
       "      <td>-0.1</td>\n",
       "      <td>0</td>\n",
       "      <td>0.00%</td>\n",
       "    </tr>\n",
       "    <tr>\n",
       "      <td>ATP</td>\n",
       "      <td>Reaction4</td>\n",
       "      <td>-0.9</td>\n",
       "      <td>0</td>\n",
       "      <td>0.00%</td>\n",
       "    </tr>\n",
       "  </tbody>\n",
       "</table>"
      ],
      "text/plain": [
       "<cobra.summary.model_summary.ModelSummary at 0x2050fe1ee50>"
      ]
     },
     "execution_count": 18,
     "metadata": {},
     "output_type": "execute_result"
    }
   ],
   "source": [
    "Model1.objective='M'\n",
    "Model1.optimize()\n",
    "Model1.summary()"
   ]
  },
  {
   "cell_type": "code",
   "execution_count": null,
   "id": "f50961cc",
   "metadata": {},
   "outputs": [],
   "source": []
  }
 ],
 "metadata": {
  "kernelspec": {
   "display_name": "Python 3 (ipykernel)",
   "language": "python",
   "name": "python3"
  },
  "language_info": {
   "codemirror_mode": {
    "name": "ipython",
    "version": 3
   },
   "file_extension": ".py",
   "mimetype": "text/x-python",
   "name": "python",
   "nbconvert_exporter": "python",
   "pygments_lexer": "ipython3",
   "version": "3.9.7"
  }
 },
 "nbformat": 4,
 "nbformat_minor": 5
}
